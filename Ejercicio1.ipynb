{
  "nbformat": 4,
  "nbformat_minor": 0,
  "metadata": {
    "colab": {
      "name": "Ejercicio1.ipynb",
      "provenance": [],
      "collapsed_sections": []
    },
    "kernelspec": {
      "name": "python3",
      "display_name": "Python 3"
    }
  },
  "cells": [
    {
      "cell_type": "code",
      "metadata": {
        "id": "dYnoxeb0TEMY",
        "colab_type": "code",
        "outputId": "cb262cf1-cea3-4575-c14a-557b64ffba74",
        "colab": {
          "base_uri": "https://localhost:8080/",
          "height": 51
        }
      },
      "source": [
        "from google.colab import drive\n",
        "drive.mount('/content/drive/')\n",
        "\n",
        "%cd \"/content/drive/My Drive/Cursos/Control Inteligente/\""
      ],
      "execution_count": 189,
      "outputs": [
        {
          "output_type": "stream",
          "text": [
            "Drive already mounted at /content/drive/; to attempt to forcibly remount, call drive.mount(\"/content/drive/\", force_remount=True).\n",
            "/content/drive/My Drive/Cursos/Control Inteligente\n"
          ],
          "name": "stdout"
        }
      ]
    },
    {
      "cell_type": "code",
      "metadata": {
        "id": "LNymH_yQKk_h",
        "colab_type": "code",
        "colab": {}
      },
      "source": [
        "import torch\n",
        "import pandas as pd\n",
        "import numpy as np\n",
        "import matplotlib.pyplot as plt"
      ],
      "execution_count": 0,
      "outputs": []
    },
    {
      "cell_type": "code",
      "metadata": {
        "id": "hG6-8RuFSYlT",
        "colab_type": "code",
        "colab": {}
      },
      "source": [
        "u = pd.read_csv('u.csv', engine='python')\n",
        "u_train = pd.read_csv('u_train.csv', engine='python')\n",
        "u_test = pd.read_csv('u_test.csv', engine='python')\n",
        "u_val = pd.read_csv('u_val.csv', engine='python')\n",
        "\n",
        "y = pd.read_csv('y.csv', engine='python')\n",
        "y_train = pd.read_csv('y_train.csv', engine='python')\n",
        "y_test = pd.read_csv('y_test.csv', engine='python')\n",
        "y_val = pd.read_csv('y_val.csv', engine='python')"
      ],
      "execution_count": 0,
      "outputs": []
    },
    {
      "cell_type": "code",
      "metadata": {
        "id": "yoGS4CB_Vfrs",
        "colab_type": "code",
        "colab": {}
      },
      "source": [
        "# Train\n",
        "l_train = len(u_train)\n",
        "u1_train = u_train.values[1:l_train-1]        # u(k-1)\n",
        "u2_train = u_train.values[0:l_train-2]        # u(k-2)\n",
        "y1_train = y_train.values[1:l_train-1]        # y(k-1)\n",
        "y2_train = y_train.values[0:l_train-2]        # y(k-2)\n",
        "y_train = y_train.values[2:l_train]          # y(k), salida\n",
        "\n",
        "x_train = np.transpose([y1_train, y2_train, u1_train, u2_train])\n",
        "\n",
        "# Test\n",
        "l_test = len(u_test)\n",
        "u1_test = u_test.values[1:l_test-1]           # u(k-1)\n",
        "u2_test = u_test.values[0:l_test-2]           # u(k-2)\n",
        "y1_test = y_test.values[1:l_test-1]           # y(k-1)\n",
        "y2_test = y_test.values[0:l_test-2]           # y(k-2)\n",
        "y_test = y_test.values[2:l_test]             # y(k), salida\n",
        "\n",
        "x_test = np.transpose([y1_test, y2_test, u1_test, u2_test])\n",
        "\n",
        "# Val\n",
        "l_val = len(u_val)\n",
        "u1_val = u_val.values[1:l_val-1]              # u(k-1)\n",
        "u2_val = u_val.values[0:l_val-2]              # u(k-2)\n",
        "y1_val = y_val.values[1:l_val-1]              # y(k-1)\n",
        "y2_val = y_val.values[0:l_val-2]              # y(k-2)\n",
        "y_val = y_val.values[2:l_val]                 # y(k), salida\n",
        "\n",
        "x_val = np.transpose([y1_val, y2_val, u1_val, u2_val])"
      ],
      "execution_count": 0,
      "outputs": []
    },
    {
      "cell_type": "code",
      "metadata": {
        "id": "vocwOAZmZfU9",
        "colab_type": "code",
        "colab": {}
      },
      "source": [
        "# A torch.Tensor is a multi-dimensional matrix containing elements of a single data type.\n",
        "# A tensor can be constructed from a Python list or sequence using the torch.tensor() constructor\n",
        "\n",
        "X_train = torch.tensor(x_train, dtype=torch.float)\n",
        "Y_train = torch.tensor(y_train, dtype=torch.float)\n",
        "X_test = torch.tensor(x_test, dtype=torch.float)\n",
        "Y_test = torch.tensor(y_test, dtype=torch.float)\n",
        "X_val = torch.tensor(x_val, dtype=torch.float)\n",
        "Y_val = torch.tensor(y_val, dtype=torch.float)"
      ],
      "execution_count": 0,
      "outputs": []
    },
    {
      "cell_type": "markdown",
      "metadata": {
        "id": "PKINJLpn11AZ",
        "colab_type": "text"
      },
      "source": [
        "# Entrenamiento de la red optima obtenida en matlab"
      ]
    },
    {
      "cell_type": "code",
      "metadata": {
        "id": "YiAb5_MuPEy8",
        "colab_type": "code",
        "colab": {}
      },
      "source": [
        "# Parametros del modelo\n",
        "\n",
        "inp = 4       # Input layer\n",
        "hid = 15      # Hidden layer\n",
        "out = 1       # Output layer\n",
        "\n",
        "loss_funct = torch.nn.MSELoss()\n",
        "lr = 1e-1\n",
        "epoch = 500"
      ],
      "execution_count": 0,
      "outputs": []
    },
    {
      "cell_type": "code",
      "metadata": {
        "id": "gv-AaEf2KtU_",
        "colab_type": "code",
        "colab": {}
      },
      "source": [
        "# Definir modelo\n",
        "\n",
        "model = torch.nn.Sequential(torch.nn.Linear(inp, hid),\n",
        "                            torch.nn.Sigmoid(),\n",
        "                            torch.nn.Linear(hid, out))"
      ],
      "execution_count": 0,
      "outputs": []
    },
    {
      "cell_type": "code",
      "metadata": {
        "id": "aJ2j3Y7RPDXf",
        "colab_type": "code",
        "outputId": "65294ba3-2e7b-4f84-e345-ccbf2942dc74",
        "colab": {
          "base_uri": "https://localhost:8080/",
          "height": 921
        }
      },
      "source": [
        "for i in range(epoch):\n",
        "  y_pred = model(X_train)\n",
        "  loss = loss_funct(y_pred, Y_train)\n",
        "\n",
        "  if i%10 == 0:\n",
        "    print(i, loss.item())\n",
        "\n",
        "  model.zero_grad()\n",
        "  loss.backward()\n",
        "\n",
        "  with torch.no_grad():\n",
        "    for param in model.parameters():\n",
        "      param -= lr*param.grad"
      ],
      "execution_count": 218,
      "outputs": [
        {
          "output_type": "stream",
          "text": [
            "/usr/local/lib/python3.6/dist-packages/torch/nn/modules/loss.py:432: UserWarning: Using a target size (torch.Size([3297, 1])) that is different to the input size (torch.Size([1, 3297, 1])). This will likely lead to incorrect results due to broadcasting. Please ensure they have the same size.\n",
            "  return F.mse_loss(input, target, reduction=self.reduction)\n"
          ],
          "name": "stderr"
        },
        {
          "output_type": "stream",
          "text": [
            "0 1.2640184164047241\n",
            "10 0.6635231971740723\n",
            "20 0.477165549993515\n",
            "30 0.4176348149776459\n",
            "40 0.38546064496040344\n",
            "50 0.3579346239566803\n",
            "60 0.33180975914001465\n",
            "70 0.3068958818912506\n",
            "80 0.2834300994873047\n",
            "90 0.2617095410823822\n",
            "100 0.24200895428657532\n",
            "110 0.22453266382217407\n",
            "120 0.20938245952129364\n",
            "130 0.19654501974582672\n",
            "140 0.1859002262353897\n",
            "150 0.17724549770355225\n",
            "160 0.17032767832279205\n",
            "170 0.16487495601177216\n",
            "180 0.16062216460704803\n",
            "190 0.15732818841934204\n",
            "200 0.15478502213954926\n",
            "210 0.15282033383846283\n",
            "220 0.15129594504833221\n",
            "230 0.1501036435365677\n",
            "240 0.14916040003299713\n",
            "250 0.14840340614318848\n",
            "260 0.14778558909893036\n",
            "270 0.1472720354795456\n",
            "280 0.14683681726455688\n",
            "290 0.1464608609676361\n",
            "300 0.1461300253868103\n",
            "310 0.14583396911621094\n",
            "320 0.14556488394737244\n",
            "330 0.14531704783439636\n",
            "340 0.1450861245393753\n",
            "350 0.14486894011497498\n",
            "360 0.1446629911661148\n",
            "370 0.14446641504764557\n",
            "380 0.14427772164344788\n",
            "390 0.14409583806991577\n",
            "400 0.1439199000597\n",
            "410 0.1437491774559021\n",
            "420 0.14358311891555786\n",
            "430 0.14342130720615387\n",
            "440 0.14326335489749908\n",
            "450 0.14310896396636963\n",
            "460 0.1429578810930252\n",
            "470 0.14280986785888672\n",
            "480 0.14266479015350342\n",
            "490 0.14252245426177979\n"
          ],
          "name": "stdout"
        }
      ]
    },
    {
      "cell_type": "code",
      "metadata": {
        "id": "e5bhfo6K4eI-",
        "colab_type": "code",
        "colab": {}
      },
      "source": [
        "torch.save(model,'nn')\n",
        "nn = torch.load('nn')"
      ],
      "execution_count": 0,
      "outputs": []
    },
    {
      "cell_type": "code",
      "metadata": {
        "id": "L6Hm2DQB5BHl",
        "colab_type": "code",
        "colab": {}
      },
      "source": [
        "y_pred = nn(X_test)\n",
        "y_pred = y_pred.detach().numpy()"
      ],
      "execution_count": 0,
      "outputs": []
    },
    {
      "cell_type": "code",
      "metadata": {
        "id": "KWPZbnu75tLY",
        "colab_type": "code",
        "outputId": "2fc9b961-8f27-467c-fac6-173caa668854",
        "colab": {
          "base_uri": "https://localhost:8080/",
          "height": 265
        }
      },
      "source": [
        "plt.plot(y_pred[0])\n",
        "plt.plot(y_test)\n",
        "plt.show()"
      ],
      "execution_count": 202,
      "outputs": [
        {
          "output_type": "display_data",
          "data": {
            "image/png": "[encoded data removed]",
            "text/plain": [
              "<Figure size 432x288 with 1 Axes>"
            ]
          },
          "metadata": {
            "tags": [],
            "needs_background": "light"
          }
        }
      ]
    },
    {
      "cell_type": "markdown",
      "metadata": {
        "id": "Hph2ZzOZ1rU0",
        "colab_type": "text"
      },
      "source": [
        "# Joint Supervision"
      ]
    },
    {
      "cell_type": "code",
      "metadata": {
        "id": "BvHgBVlJmqcI",
        "colab_type": "code",
        "colab": {}
      },
      "source": [
        "class Lu(torch.autograd.Function):\n",
        "    @staticmethod\n",
        "    def forward(ctx, y, y_pred):\n",
        "        ctx.save_for_backward(y, y_pred)\n",
        "        e = y_pred-y\n",
        "        e[e<0] = 0 \n",
        "        return l*e.pow(2).sum() + (y_pred-y).pow(2).sum()\n",
        "\n",
        "    @staticmethod\n",
        "    def backward(ctx, grad_output):\n",
        "        yy, yy_pred = ctx.saved_tensors\n",
        "        e = y_pred-y_pred\n",
        "        e[e<0] = 0 \n",
        "        grad_output = l*(-2 * e).sum() + 2*(y_pred-y).sum()\n",
        "        return grad_output\n",
        "\n",
        "\n",
        "class Ld(torch.autograd.Function):\n",
        "    @staticmethod\n",
        "    def forward(ctx, y, y_pred):\n",
        "        ctx.save_for_backward(y, y_pred)\n",
        "        e = y_pred-y\n",
        "        e[e>0] = 0 \n",
        "        return l*e.pow(2).sum() + (y_pred-y).pow(2).sum()\n",
        "\n",
        "    @staticmethod\n",
        "    def backward(ctx, grad_output):\n",
        "        yy, yy_pred = ctx.saved_tensors\n",
        "        e = y_pred-y_pred\n",
        "        e[e>0] = 0 \n",
        "        grad_output = l*(-2 * e).sum() + 2*(y_pred-y).sum()\n",
        "        return grad_output\n"
      ],
      "execution_count": 0,
      "outputs": []
    },
    {
      "cell_type": "code",
      "metadata": {
        "id": "T8G7iqzvfrpE",
        "colab_type": "code",
        "colab": {}
      },
      "source": [
        "# Parametros del modelo\n",
        "\n",
        "inp = 4       # Input layer\n",
        "hid = 15      # Hidden layer\n",
        "out = 3       # Output layer\n",
        "l = 3         # Lambda\n",
        "\n",
        "loss_or = torch.nn.MSELoss()\n",
        "loss_upper = Ld()\n",
        "loss_lower = Ld()\n",
        "# loss_upper = torch.nn.MSELoss()\n",
        "# loss_lower = torch.nn.MSELoss()\n",
        "\n",
        "lr = 1e-2\n",
        "epoch = 100"
      ],
      "execution_count": 0,
      "outputs": []
    },
    {
      "cell_type": "code",
      "metadata": {
        "id": "PFZTXDHPLQUT",
        "colab_type": "code",
        "colab": {}
      },
      "source": [
        "model_joint = torch.nn.Sequential(torch.nn.Linear(inp, hid),\n",
        "                            torch.nn.Sigmoid(),\n",
        "                            torch.nn.Linear(hid, out))"
      ],
      "execution_count": 0,
      "outputs": []
    },
    {
      "cell_type": "code",
      "metadata": {
        "id": "YU1LLjvWpCKH",
        "colab_type": "code",
        "colab": {
          "base_uri": "https://localhost:8080/",
          "height": 445
        },
        "outputId": "b88987df-f655-41fa-b9ad-025bb52bf50d"
      },
      "source": [
        "for i in range(epoch):\n",
        "  y_pred = model_joint(X_train)\n",
        "  loss0 = loss_upper.apply(y_pred[0][:,0], Y_train)\n",
        "  loss1 = loss_or(y_pred[0][:,1], Y_train)\n",
        "  loss2 = loss_lower.apply(y_pred[0][:,2], Y_train)\n",
        "\n",
        "  loss = loss0+loss1+loss2\n",
        "\n",
        "  if i%10 == 0:\n",
        "    print(i, loss.item())\n",
        "\n",
        "  model_joint.zero_grad()\n",
        "  loss.backward()\n",
        "\n",
        "  with torch.no_grad():\n",
        "    for param in model_joint.parameters():\n",
        "      param -= lr*param.grad"
      ],
      "execution_count": 274,
      "outputs": [
        {
          "output_type": "stream",
          "text": [
            "/usr/local/lib/python3.6/dist-packages/torch/nn/modules/loss.py:432: UserWarning: Using a target size (torch.Size([3297, 1])) that is different to the input size (torch.Size([3297])). This will likely lead to incorrect results due to broadcasting. Please ensure they have the same size.\n",
            "  return F.mse_loss(input, target, reduction=self.reduction)\n"
          ],
          "name": "stderr"
        },
        {
          "output_type": "stream",
          "text": [
            "0 51735456.0\n"
          ],
          "name": "stdout"
        },
        {
          "output_type": "error",
          "ename": "RuntimeError",
          "evalue": "ignored",
          "traceback": [
            "\u001b[0;31m---------------------------------------------------------------------------\u001b[0m",
            "\u001b[0;31mRuntimeError\u001b[0m                              Traceback (most recent call last)",
            "\u001b[0;32m<ipython-input-274-a55a31c4390e>\u001b[0m in \u001b[0;36m<module>\u001b[0;34m()\u001b[0m\n\u001b[1;32m     11\u001b[0m \u001b[0;34m\u001b[0m\u001b[0m\n\u001b[1;32m     12\u001b[0m   \u001b[0mmodel_joint\u001b[0m\u001b[0;34m.\u001b[0m\u001b[0mzero_grad\u001b[0m\u001b[0;34m(\u001b[0m\u001b[0;34m)\u001b[0m\u001b[0;34m\u001b[0m\u001b[0;34m\u001b[0m\u001b[0m\n\u001b[0;32m---> 13\u001b[0;31m   \u001b[0mloss\u001b[0m\u001b[0;34m.\u001b[0m\u001b[0mbackward\u001b[0m\u001b[0;34m(\u001b[0m\u001b[0;34m)\u001b[0m\u001b[0;34m\u001b[0m\u001b[0;34m\u001b[0m\u001b[0m\n\u001b[0m\u001b[1;32m     14\u001b[0m \u001b[0;34m\u001b[0m\u001b[0m\n\u001b[1;32m     15\u001b[0m   \u001b[0;32mwith\u001b[0m \u001b[0mtorch\u001b[0m\u001b[0;34m.\u001b[0m\u001b[0mno_grad\u001b[0m\u001b[0;34m(\u001b[0m\u001b[0;34m)\u001b[0m\u001b[0;34m:\u001b[0m\u001b[0;34m\u001b[0m\u001b[0;34m\u001b[0m\u001b[0m\n",
            "\u001b[0;32m/usr/local/lib/python3.6/dist-packages/torch/tensor.py\u001b[0m in \u001b[0;36mbackward\u001b[0;34m(self, gradient, retain_graph, create_graph)\u001b[0m\n\u001b[1;32m    196\u001b[0m                 \u001b[0mproducts\u001b[0m\u001b[0;34m.\u001b[0m \u001b[0mDefaults\u001b[0m \u001b[0mto\u001b[0m\u001b[0;31m \u001b[0m\u001b[0;31m`\u001b[0m\u001b[0;31m`\u001b[0m\u001b[0;32mFalse\u001b[0m\u001b[0;31m`\u001b[0m\u001b[0;31m`\u001b[0m\u001b[0;34m.\u001b[0m\u001b[0;34m\u001b[0m\u001b[0;34m\u001b[0m\u001b[0m\n\u001b[1;32m    197\u001b[0m         \"\"\"\n\u001b[0;32m--> 198\u001b[0;31m         \u001b[0mtorch\u001b[0m\u001b[0;34m.\u001b[0m\u001b[0mautograd\u001b[0m\u001b[0;34m.\u001b[0m\u001b[0mbackward\u001b[0m\u001b[0;34m(\u001b[0m\u001b[0mself\u001b[0m\u001b[0;34m,\u001b[0m \u001b[0mgradient\u001b[0m\u001b[0;34m,\u001b[0m \u001b[0mretain_graph\u001b[0m\u001b[0;34m,\u001b[0m \u001b[0mcreate_graph\u001b[0m\u001b[0;34m)\u001b[0m\u001b[0;34m\u001b[0m\u001b[0;34m\u001b[0m\u001b[0m\n\u001b[0m\u001b[1;32m    199\u001b[0m \u001b[0;34m\u001b[0m\u001b[0m\n\u001b[1;32m    200\u001b[0m     \u001b[0;32mdef\u001b[0m \u001b[0mregister_hook\u001b[0m\u001b[0;34m(\u001b[0m\u001b[0mself\u001b[0m\u001b[0;34m,\u001b[0m \u001b[0mhook\u001b[0m\u001b[0;34m)\u001b[0m\u001b[0;34m:\u001b[0m\u001b[0;34m\u001b[0m\u001b[0;34m\u001b[0m\u001b[0m\n",
            "\u001b[0;32m/usr/local/lib/python3.6/dist-packages/torch/autograd/__init__.py\u001b[0m in \u001b[0;36mbackward\u001b[0;34m(tensors, grad_tensors, retain_graph, create_graph, grad_variables)\u001b[0m\n\u001b[1;32m     98\u001b[0m     Variable._execution_engine.run_backward(\n\u001b[1;32m     99\u001b[0m         \u001b[0mtensors\u001b[0m\u001b[0;34m,\u001b[0m \u001b[0mgrad_tensors\u001b[0m\u001b[0;34m,\u001b[0m \u001b[0mretain_graph\u001b[0m\u001b[0;34m,\u001b[0m \u001b[0mcreate_graph\u001b[0m\u001b[0;34m,\u001b[0m\u001b[0;34m\u001b[0m\u001b[0;34m\u001b[0m\u001b[0m\n\u001b[0;32m--> 100\u001b[0;31m         allow_unreachable=True)  # allow_unreachable flag\n\u001b[0m\u001b[1;32m    101\u001b[0m \u001b[0;34m\u001b[0m\u001b[0m\n\u001b[1;32m    102\u001b[0m \u001b[0;34m\u001b[0m\u001b[0m\n",
            "\u001b[0;31mRuntimeError\u001b[0m: Can't call numpy() on Variable that requires grad. Use var.detach().numpy() instead."
          ]
        }
      ]
    }
  ]
}